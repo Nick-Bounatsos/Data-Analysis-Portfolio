{
 "cells": [
  {
   "cell_type": "code",
   "execution_count": 118,
   "metadata": {},
   "outputs": [],
   "source": [
    "import numpy as np\n",
    "import pandas as pd\n",
    "import matplotlib.pyplot as plt\n",
    "import sqlite3\n",
    "\n",
    "%matplotlib inline"
   ]
  },
  {
   "cell_type": "code",
   "execution_count": 119,
   "metadata": {},
   "outputs": [],
   "source": [
    "conn = sqlite3.connect(\":memory:\")\n",
    "cursor = conn.cursor()"
   ]
  },
  {
   "cell_type": "code",
   "execution_count": 120,
   "metadata": {},
   "outputs": [
    {
     "data": {
      "text/plain": [
       "<sqlite3.Cursor at 0x7f9c1d6689d0>"
      ]
     },
     "execution_count": 120,
     "metadata": {},
     "output_type": "execute_result"
    }
   ],
   "source": [
    "cursor.executescript(open(\"bike_store_sales.sql\", \"r\").read())"
   ]
  },
  {
   "cell_type": "code",
   "execution_count": 121,
   "metadata": {},
   "outputs": [
    {
     "data": {
      "text/html": [
       "<div>\n",
       "<style scoped>\n",
       "    .dataframe tbody tr th:only-of-type {\n",
       "        vertical-align: middle;\n",
       "    }\n",
       "\n",
       "    .dataframe tbody tr th {\n",
       "        vertical-align: top;\n",
       "    }\n",
       "\n",
       "    .dataframe thead th {\n",
       "        text-align: right;\n",
       "    }\n",
       "</style>\n",
       "<table border=\"1\" class=\"dataframe\">\n",
       "  <thead>\n",
       "    <tr style=\"text-align: right;\">\n",
       "      <th></th>\n",
       "      <th>date</th>\n",
       "      <th>age</th>\n",
       "      <th>sex</th>\n",
       "      <th>country</th>\n",
       "      <th>state</th>\n",
       "      <th>product_category</th>\n",
       "      <th>sub_category</th>\n",
       "      <th>product</th>\n",
       "      <th>order_quantity</th>\n",
       "      <th>unit_cost</th>\n",
       "      <th>unit_price</th>\n",
       "      <th>profit</th>\n",
       "      <th>cost</th>\n",
       "      <th>revenue</th>\n",
       "    </tr>\n",
       "  </thead>\n",
       "  <tbody>\n",
       "    <tr>\n",
       "      <th>0</th>\n",
       "      <td>2011-01-01</td>\n",
       "      <td>23</td>\n",
       "      <td>M</td>\n",
       "      <td>Australia</td>\n",
       "      <td>Victoria</td>\n",
       "      <td>Bikes</td>\n",
       "      <td>Mountain Bikes</td>\n",
       "      <td>Mountain-200 Black, 46</td>\n",
       "      <td>1</td>\n",
       "      <td>1252</td>\n",
       "      <td>2295</td>\n",
       "      <td>561</td>\n",
       "      <td>1252</td>\n",
       "      <td>1813</td>\n",
       "    </tr>\n",
       "    <tr>\n",
       "      <th>1</th>\n",
       "      <td>2011-01-01</td>\n",
       "      <td>33</td>\n",
       "      <td>F</td>\n",
       "      <td>France</td>\n",
       "      <td>Yveline</td>\n",
       "      <td>Bikes</td>\n",
       "      <td>Road Bikes</td>\n",
       "      <td>Road-150 Red, 48</td>\n",
       "      <td>2</td>\n",
       "      <td>2171</td>\n",
       "      <td>3578</td>\n",
       "      <td>1097</td>\n",
       "      <td>4342</td>\n",
       "      <td>5439</td>\n",
       "    </tr>\n",
       "    <tr>\n",
       "      <th>2</th>\n",
       "      <td>2011-01-01</td>\n",
       "      <td>17</td>\n",
       "      <td>M</td>\n",
       "      <td>Canada</td>\n",
       "      <td>British Columbia</td>\n",
       "      <td>Bikes</td>\n",
       "      <td>Road Bikes</td>\n",
       "      <td>Road-250 Red, 44</td>\n",
       "      <td>1</td>\n",
       "      <td>1519</td>\n",
       "      <td>2443</td>\n",
       "      <td>900</td>\n",
       "      <td>1519</td>\n",
       "      <td>2419</td>\n",
       "    </tr>\n",
       "    <tr>\n",
       "      <th>3</th>\n",
       "      <td>2011-01-01</td>\n",
       "      <td>42</td>\n",
       "      <td>M</td>\n",
       "      <td>United States</td>\n",
       "      <td>California</td>\n",
       "      <td>Bikes</td>\n",
       "      <td>Road Bikes</td>\n",
       "      <td>Road-750 Black, 44</td>\n",
       "      <td>1</td>\n",
       "      <td>344</td>\n",
       "      <td>540</td>\n",
       "      <td>185</td>\n",
       "      <td>344</td>\n",
       "      <td>529</td>\n",
       "    </tr>\n",
       "    <tr>\n",
       "      <th>4</th>\n",
       "      <td>2011-01-01</td>\n",
       "      <td>39</td>\n",
       "      <td>M</td>\n",
       "      <td>United States</td>\n",
       "      <td>Washington</td>\n",
       "      <td>Bikes</td>\n",
       "      <td>Road Bikes</td>\n",
       "      <td>Road-550-W Yellow, 38</td>\n",
       "      <td>3</td>\n",
       "      <td>713</td>\n",
       "      <td>1120</td>\n",
       "      <td>482</td>\n",
       "      <td>2139</td>\n",
       "      <td>2621</td>\n",
       "    </tr>\n",
       "  </tbody>\n",
       "</table>\n",
       "</div>"
      ],
      "text/plain": [
       "         date  age sex        country             state product_category  \\\n",
       "0  2011-01-01   23   M      Australia          Victoria            Bikes   \n",
       "1  2011-01-01   33   F         France           Yveline            Bikes   \n",
       "2  2011-01-01   17   M         Canada  British Columbia            Bikes   \n",
       "3  2011-01-01   42   M  United States        California            Bikes   \n",
       "4  2011-01-01   39   M  United States        Washington            Bikes   \n",
       "\n",
       "     sub_category                 product  order_quantity  unit_cost  \\\n",
       "0  Mountain Bikes  Mountain-200 Black, 46               1       1252   \n",
       "1      Road Bikes        Road-150 Red, 48               2       2171   \n",
       "2      Road Bikes        Road-250 Red, 44               1       1519   \n",
       "3      Road Bikes      Road-750 Black, 44               1        344   \n",
       "4      Road Bikes   Road-550-W Yellow, 38               3        713   \n",
       "\n",
       "   unit_price  profit  cost  revenue  \n",
       "0        2295     561  1252     1813  \n",
       "1        3578    1097  4342     5439  \n",
       "2        2443     900  1519     2419  \n",
       "3         540     185   344      529  \n",
       "4        1120     482  2139     2621  "
      ]
     },
     "execution_count": 121,
     "metadata": {},
     "output_type": "execute_result"
    }
   ],
   "source": [
    "df = pd.read_sql(\"SELECT * FROM sales ORDER BY date;\", conn)\n",
    "cursor.close()\n",
    "conn.close()\n",
    "df.head()"
   ]
  },
  {
   "cell_type": "code",
   "execution_count": 122,
   "metadata": {},
   "outputs": [
    {
     "name": "stdout",
     "output_type": "stream",
     "text": [
      "<class 'pandas.core.frame.DataFrame'>\n",
      "RangeIndex: 95806 entries, 0 to 95805\n",
      "Data columns (total 14 columns):\n",
      " #   Column            Non-Null Count  Dtype \n",
      "---  ------            --------------  ----- \n",
      " 0   date              95806 non-null  object\n",
      " 1   age               95806 non-null  int64 \n",
      " 2   sex               95806 non-null  object\n",
      " 3   country           95806 non-null  object\n",
      " 4   state             95806 non-null  object\n",
      " 5   product_category  95806 non-null  object\n",
      " 6   sub_category      95806 non-null  object\n",
      " 7   product           95806 non-null  object\n",
      " 8   order_quantity    95806 non-null  int64 \n",
      " 9   unit_cost         95806 non-null  int64 \n",
      " 10  unit_price        95806 non-null  int64 \n",
      " 11  profit            95806 non-null  int64 \n",
      " 12  cost              95806 non-null  int64 \n",
      " 13  revenue           95806 non-null  int64 \n",
      "dtypes: int64(7), object(7)\n",
      "memory usage: 10.2+ MB\n"
     ]
    }
   ],
   "source": [
    "df.info()"
   ]
  },
  {
   "cell_type": "code",
   "execution_count": 123,
   "metadata": {},
   "outputs": [
    {
     "data": {
      "text/html": [
       "<div>\n",
       "<style scoped>\n",
       "    .dataframe tbody tr th:only-of-type {\n",
       "        vertical-align: middle;\n",
       "    }\n",
       "\n",
       "    .dataframe tbody tr th {\n",
       "        vertical-align: top;\n",
       "    }\n",
       "\n",
       "    .dataframe thead th {\n",
       "        text-align: right;\n",
       "    }\n",
       "</style>\n",
       "<table border=\"1\" class=\"dataframe\">\n",
       "  <thead>\n",
       "    <tr style=\"text-align: right;\">\n",
       "      <th></th>\n",
       "      <th>order_quantity</th>\n",
       "      <th>unit_cost</th>\n",
       "      <th>unit_price</th>\n",
       "      <th>profit</th>\n",
       "      <th>cost</th>\n",
       "      <th>revenue</th>\n",
       "    </tr>\n",
       "  </thead>\n",
       "  <tbody>\n",
       "    <tr>\n",
       "      <th>count</th>\n",
       "      <td>95806.000000</td>\n",
       "      <td>95806.000000</td>\n",
       "      <td>95806.000000</td>\n",
       "      <td>95806.000000</td>\n",
       "      <td>95806.000000</td>\n",
       "      <td>95806.000000</td>\n",
       "    </tr>\n",
       "    <tr>\n",
       "      <th>mean</th>\n",
       "      <td>11.851888</td>\n",
       "      <td>273.024967</td>\n",
       "      <td>465.543703</td>\n",
       "      <td>297.577427</td>\n",
       "      <td>489.972069</td>\n",
       "      <td>787.549496</td>\n",
       "    </tr>\n",
       "    <tr>\n",
       "      <th>std</th>\n",
       "      <td>9.548278</td>\n",
       "      <td>559.864796</td>\n",
       "      <td>944.059238</td>\n",
       "      <td>466.133558</td>\n",
       "      <td>895.135997</td>\n",
       "      <td>1330.468420</td>\n",
       "    </tr>\n",
       "    <tr>\n",
       "      <th>min</th>\n",
       "      <td>1.000000</td>\n",
       "      <td>1.000000</td>\n",
       "      <td>2.000000</td>\n",
       "      <td>-30.000000</td>\n",
       "      <td>1.000000</td>\n",
       "      <td>2.000000</td>\n",
       "    </tr>\n",
       "    <tr>\n",
       "      <th>25%</th>\n",
       "      <td>2.000000</td>\n",
       "      <td>2.000000</td>\n",
       "      <td>5.000000</td>\n",
       "      <td>32.000000</td>\n",
       "      <td>33.000000</td>\n",
       "      <td>74.000000</td>\n",
       "    </tr>\n",
       "    <tr>\n",
       "      <th>50%</th>\n",
       "      <td>10.000000</td>\n",
       "      <td>11.000000</td>\n",
       "      <td>30.000000</td>\n",
       "      <td>114.000000</td>\n",
       "      <td>126.000000</td>\n",
       "      <td>253.000000</td>\n",
       "    </tr>\n",
       "    <tr>\n",
       "      <th>75%</th>\n",
       "      <td>20.000000</td>\n",
       "      <td>42.000000</td>\n",
       "      <td>70.000000</td>\n",
       "      <td>368.000000</td>\n",
       "      <td>456.000000</td>\n",
       "      <td>840.000000</td>\n",
       "    </tr>\n",
       "    <tr>\n",
       "      <th>max</th>\n",
       "      <td>32.000000</td>\n",
       "      <td>2171.000000</td>\n",
       "      <td>3578.000000</td>\n",
       "      <td>5638.000000</td>\n",
       "      <td>8684.000000</td>\n",
       "      <td>14312.000000</td>\n",
       "    </tr>\n",
       "  </tbody>\n",
       "</table>\n",
       "</div>"
      ],
      "text/plain": [
       "       order_quantity     unit_cost    unit_price        profit          cost  \\\n",
       "count    95806.000000  95806.000000  95806.000000  95806.000000  95806.000000   \n",
       "mean        11.851888    273.024967    465.543703    297.577427    489.972069   \n",
       "std          9.548278    559.864796    944.059238    466.133558    895.135997   \n",
       "min          1.000000      1.000000      2.000000    -30.000000      1.000000   \n",
       "25%          2.000000      2.000000      5.000000     32.000000     33.000000   \n",
       "50%         10.000000     11.000000     30.000000    114.000000    126.000000   \n",
       "75%         20.000000     42.000000     70.000000    368.000000    456.000000   \n",
       "max         32.000000   2171.000000   3578.000000   5638.000000   8684.000000   \n",
       "\n",
       "            revenue  \n",
       "count  95806.000000  \n",
       "mean     787.549496  \n",
       "std     1330.468420  \n",
       "min        2.000000  \n",
       "25%       74.000000  \n",
       "50%      253.000000  \n",
       "75%      840.000000  \n",
       "max    14312.000000  "
      ]
     },
     "execution_count": 123,
     "metadata": {},
     "output_type": "execute_result"
    }
   ],
   "source": [
    "df[[\"order_quantity\", \"unit_cost\", \"unit_price\", \"profit\", \"cost\", \"revenue\"]].describe()"
   ]
  },
  {
   "cell_type": "markdown",
   "metadata": {},
   "source": [
    "Re-casting to appropriate values to reduce memory usage"
   ]
  },
  {
   "cell_type": "code",
   "execution_count": 124,
   "metadata": {},
   "outputs": [],
   "source": [
    "df[\"age\"] = df[\"age\"].astype(np.uint8)\n",
    "df[\"order_quantity\"] = df[\"order_quantity\"].astype(np.uint8)\n",
    "df[\"unit_cost\"] = df[\"unit_cost\"].astype(np.uint16)\n",
    "df[\"unit_price\"] = df[\"unit_price\"].astype(np.uint16)\n",
    "df[\"profit\"] = df[\"profit\"].astype(np.int32)\n",
    "df[\"cost\"] = df[\"cost\"].astype(np.uint16)\n",
    "df[\"revenue\"] = df[\"revenue\"].astype(np.uint16)"
   ]
  },
  {
   "cell_type": "code",
   "execution_count": 125,
   "metadata": {},
   "outputs": [
    {
     "name": "stdout",
     "output_type": "stream",
     "text": [
      "<class 'pandas.core.frame.DataFrame'>\n",
      "RangeIndex: 95806 entries, 0 to 95805\n",
      "Data columns (total 14 columns):\n",
      " #   Column            Non-Null Count  Dtype \n",
      "---  ------            --------------  ----- \n",
      " 0   date              95806 non-null  object\n",
      " 1   age               95806 non-null  uint8 \n",
      " 2   sex               95806 non-null  object\n",
      " 3   country           95806 non-null  object\n",
      " 4   state             95806 non-null  object\n",
      " 5   product_category  95806 non-null  object\n",
      " 6   sub_category      95806 non-null  object\n",
      " 7   product           95806 non-null  object\n",
      " 8   order_quantity    95806 non-null  uint8 \n",
      " 9   unit_cost         95806 non-null  uint16\n",
      " 10  unit_price        95806 non-null  uint16\n",
      " 11  profit            95806 non-null  int32 \n",
      " 12  cost              95806 non-null  uint16\n",
      " 13  revenue           95806 non-null  uint16\n",
      "dtypes: int32(1), object(7), uint16(4), uint8(2)\n",
      "memory usage: 6.4+ MB\n"
     ]
    }
   ],
   "source": [
    "df.info()"
   ]
  },
  {
   "cell_type": "markdown",
   "metadata": {},
   "source": [
    "# Gender related sales exploration\n",
    "___"
   ]
  },
  {
   "cell_type": "code",
   "execution_count": 126,
   "metadata": {},
   "outputs": [],
   "source": [
    "countrygroup = df.groupby(by=\"country\")"
   ]
  },
  {
   "cell_type": "code",
   "execution_count": 127,
   "metadata": {},
   "outputs": [
    {
     "data": {
      "text/html": [
       "<div>\n",
       "<style scoped>\n",
       "    .dataframe tbody tr th:only-of-type {\n",
       "        vertical-align: middle;\n",
       "    }\n",
       "\n",
       "    .dataframe tbody tr th {\n",
       "        vertical-align: top;\n",
       "    }\n",
       "\n",
       "    .dataframe thead th {\n",
       "        text-align: right;\n",
       "    }\n",
       "</style>\n",
       "<table border=\"1\" class=\"dataframe\">\n",
       "  <thead>\n",
       "    <tr style=\"text-align: right;\">\n",
       "      <th></th>\n",
       "      <th></th>\n",
       "      <th>% of sales</th>\n",
       "    </tr>\n",
       "    <tr>\n",
       "      <th>country</th>\n",
       "      <th>sex</th>\n",
       "      <th></th>\n",
       "    </tr>\n",
       "  </thead>\n",
       "  <tbody>\n",
       "    <tr>\n",
       "      <th rowspan=\"2\" valign=\"top\">Australia</th>\n",
       "      <th>M</th>\n",
       "      <td>51.47</td>\n",
       "    </tr>\n",
       "    <tr>\n",
       "      <th>F</th>\n",
       "      <td>48.53</td>\n",
       "    </tr>\n",
       "    <tr>\n",
       "      <th rowspan=\"2\" valign=\"top\">Canada</th>\n",
       "      <th>M</th>\n",
       "      <td>53.94</td>\n",
       "    </tr>\n",
       "    <tr>\n",
       "      <th>F</th>\n",
       "      <td>46.06</td>\n",
       "    </tr>\n",
       "    <tr>\n",
       "      <th rowspan=\"2\" valign=\"top\">France</th>\n",
       "      <th>F</th>\n",
       "      <td>50.30</td>\n",
       "    </tr>\n",
       "    <tr>\n",
       "      <th>M</th>\n",
       "      <td>49.70</td>\n",
       "    </tr>\n",
       "    <tr>\n",
       "      <th rowspan=\"2\" valign=\"top\">Germany</th>\n",
       "      <th>M</th>\n",
       "      <td>50.58</td>\n",
       "    </tr>\n",
       "    <tr>\n",
       "      <th>F</th>\n",
       "      <td>49.42</td>\n",
       "    </tr>\n",
       "    <tr>\n",
       "      <th rowspan=\"2\" valign=\"top\">United Kingdom</th>\n",
       "      <th>M</th>\n",
       "      <td>50.36</td>\n",
       "    </tr>\n",
       "    <tr>\n",
       "      <th>F</th>\n",
       "      <td>49.64</td>\n",
       "    </tr>\n",
       "    <tr>\n",
       "      <th rowspan=\"2\" valign=\"top\">United States</th>\n",
       "      <th>M</th>\n",
       "      <td>52.28</td>\n",
       "    </tr>\n",
       "    <tr>\n",
       "      <th>F</th>\n",
       "      <td>47.72</td>\n",
       "    </tr>\n",
       "  </tbody>\n",
       "</table>\n",
       "</div>"
      ],
      "text/plain": [
       "                    % of sales\n",
       "country        sex            \n",
       "Australia      M         51.47\n",
       "               F         48.53\n",
       "Canada         M         53.94\n",
       "               F         46.06\n",
       "France         F         50.30\n",
       "               M         49.70\n",
       "Germany        M         50.58\n",
       "               F         49.42\n",
       "United Kingdom M         50.36\n",
       "               F         49.64\n",
       "United States  M         52.28\n",
       "               F         47.72"
      ]
     },
     "execution_count": 127,
     "metadata": {},
     "output_type": "execute_result"
    }
   ],
   "source": [
    "pd.DataFrame(countrygroup[\"sex\"].value_counts(normalize=True).multiply(100).round(2)).rename({\"sex\": \"% of sales\"}, axis=\"columns\")"
   ]
  },
  {
   "cell_type": "code",
   "execution_count": 128,
   "metadata": {},
   "outputs": [],
   "source": [
    "countries = list(df[\"country\"].unique())\n",
    "men = []\n",
    "women = []\n",
    "for country in countries:\n",
    "    _men, _women = countrygroup[\"sex\"].get_group(country).value_counts().multiply(100).round(2)\n",
    "    men.append(_men)\n",
    "    women.append(_women)"
   ]
  },
  {
   "cell_type": "code",
   "execution_count": 129,
   "metadata": {},
   "outputs": [],
   "source": [
    "def insert_labels(bars) -> None:\n",
    "    \"\"\"Insert a text label above each bar in the barchart given.\"\"\"\n",
    "    for bar in bars:\n",
    "        height = bar.get_height()\n",
    "        plt.annotate(f\"{height:,}\", xy=(bar.get_x() + bar.get_width() / 2, height),\n",
    "                    xytext=(0, 3), textcoords=\"offset points\", ha=\"center\", va=\"bottom\")"
   ]
  },
  {
   "cell_type": "code",
   "execution_count": 130,
   "metadata": {},
   "outputs": [
    {
     "data": {
      "text/plain": [
       "<matplotlib.legend.Legend at 0x7f9c1b010eb0>"
      ]
     },
     "execution_count": 130,
     "metadata": {},
     "output_type": "execute_result"
    },
    {
     "data": {
      "image/png": "[encoded data removed]",
      "text/plain": [
       "<Figure size 1296x576 with 1 Axes>"
      ]
     },
     "metadata": {
      "needs_background": "light"
     },
     "output_type": "display_data"
    }
   ],
   "source": [
    "y_axis = np.arange(0, 2e6, 250_000)\n",
    "x_axis = np.arange(len(countries))\n",
    "width= 0.35\n",
    "\n",
    "fig, ax = plt.subplots(figsize=(18, 8))\n",
    "\n",
    "ax.grid(axis=\"y\", which=\"major\", linestyle=\"--\", zorder=0)\n",
    "men_bars = ax.bar(x_axis + width / 2, men, width, zorder=3, color=\"#34568b\", edgecolor=\"black\", label=\"Male\")\n",
    "insert_labels(men_bars)\n",
    "\n",
    "women_bars = ax.bar(x_axis - width / 2, women, width, zorder=3, color=\"#b76ba3\", edgecolor=\"black\", label=\"Female\")\n",
    "insert_labels(women_bars)\n",
    "\n",
    "ax.set_xticks(ticks=x_axis, labels=countries)\n",
    "ax.set_yticks(ticks=y_axis, labels=[f\"{sales / 1e6:.2f} mil\" for sales in y_axis], rotation=20)\n",
    "ax.set_title(\"Sales per Country\")\n",
    "ax.set_xlabel(\"\")\n",
    "ax.set_ylabel(\"Sales\")\n",
    "ax.legend(loc=\"upper left\")"
   ]
  },
  {
   "cell_type": "markdown",
   "metadata": {},
   "source": [
    "- Canada and US male sales prevail\n",
    "- In the other countries the difference is insignificant\n",
    "\n",
    "Let's have a look at these groups' purchases"
   ]
  },
  {
   "cell_type": "code",
   "execution_count": 131,
   "metadata": {},
   "outputs": [],
   "source": [
    "us_cat_group = df.loc[df[\"country\"] == \"United States\"].groupby(\"product_category\")\n",
    "can_cat_group = df.loc[df[\"country\"] == \"Canada\"].groupby(\"product_category\")"
   ]
  },
  {
   "cell_type": "code",
   "execution_count": 132,
   "metadata": {},
   "outputs": [],
   "source": [
    "categories = list(df[\"product_category\"].unique())\n",
    "us_men = []\n",
    "us_women = []\n",
    "can_men = []\n",
    "can_women = []\n",
    "for category in categories:\n",
    "    _men, _women = us_cat_group[\"sex\"].get_group(category).value_counts().multiply(100).round(2)\n",
    "    us_men.append(_men)\n",
    "    us_women.append(_women)\n",
    "\n",
    "    _men, _women = can_cat_group[\"sex\"].get_group(category).value_counts().multiply(100).round(2)\n",
    "    can_men.append(_men)\n",
    "    can_women.append(_women)"
   ]
  },
  {
   "cell_type": "code",
   "execution_count": 133,
   "metadata": {},
   "outputs": [
    {
     "data": {
      "text/plain": [
       "<matplotlib.legend.Legend at 0x7f9c1cc6e250>"
      ]
     },
     "execution_count": 133,
     "metadata": {},
     "output_type": "execute_result"
    },
    {
     "data": {
      "image/png": "[encoded data removed]",
      "text/plain": [
       "<Figure size 1296x576 with 2 Axes>"
      ]
     },
     "metadata": {
      "needs_background": "light"
     },
     "output_type": "display_data"
    }
   ],
   "source": [
    "x_axis = np.arange(len(categories))\n",
    "us_y_axis = np.arange(0, 1_100_001, 50_000)\n",
    "can_y_axis = np.arange(0, 550_001, 25_000)\n",
    "width= 0.35\n",
    "\n",
    "fig, (us_ax, can_ax) = plt.subplots(ncols=2, figsize=(18, 8))\n",
    "fig.suptitle(\"Sales per category\")\n",
    "\n",
    "# United States\n",
    "\n",
    "us_ax.grid(axis=\"y\", which=\"major\", linestyle=\"--\", zorder=0)\n",
    "us_ax.bar(x_axis + width / 2, us_men, width, zorder=3, color=\"#34568b\", edgecolor=\"black\", label=\"Male\")\n",
    "us_ax.bar(x_axis - width / 2, us_women, width, zorder=3, color=\"#b76ba3\", edgecolor=\"black\", label=\"Female\")\n",
    "\n",
    "us_ax.set_xticks(ticks=x_axis, labels=categories)\n",
    "us_ax.set_yticks(ticks=us_y_axis, labels=[f\"{int(sales):,}\" for sales in us_y_axis], rotation=20)\n",
    "us_ax.set_title(\"United States\")\n",
    "us_ax.set_ylabel(\"Sales\")\n",
    "us_ax.legend(loc=\"upper left\")\n",
    "\n",
    "# Canada\n",
    "\n",
    "can_ax.grid(axis=\"y\", which=\"major\", linestyle=\"--\", zorder=0)\n",
    "can_ax.bar(x_axis + width / 2, can_men, width, zorder=3, color=\"#34568b\", edgecolor=\"black\", label=\"Male\")\n",
    "can_ax.bar(x_axis - width / 2, can_women, width, zorder=3, color=\"#b76ba3\", edgecolor=\"black\", label=\"Female\")\n",
    "\n",
    "can_ax.set_xticks(ticks=x_axis, labels=categories)\n",
    "can_ax.set_yticks(ticks=can_y_axis, labels=[f\"{int(sales):,}\" for sales in can_y_axis], rotation=25)\n",
    "can_ax.set_title(\"Canada\")\n",
    "can_ax.set_ylabel(\"Sales\")\n",
    "can_ax.legend(loc=\"upper left\")"
   ]
  },
  {
   "cell_type": "markdown",
   "metadata": {},
   "source": [
    "- Men in both the US and Canada buy more accessories and clothing than women"
   ]
  },
  {
   "cell_type": "markdown",
   "metadata": {},
   "source": [
    "# Category sales percentage by country\n",
    "___"
   ]
  },
  {
   "cell_type": "code",
   "execution_count": 134,
   "metadata": {},
   "outputs": [
    {
     "data": {
      "text/html": [
       "<div>\n",
       "<style scoped>\n",
       "    .dataframe tbody tr th:only-of-type {\n",
       "        vertical-align: middle;\n",
       "    }\n",
       "\n",
       "    .dataframe tbody tr th {\n",
       "        vertical-align: top;\n",
       "    }\n",
       "\n",
       "    .dataframe thead th {\n",
       "        text-align: right;\n",
       "    }\n",
       "</style>\n",
       "<table border=\"1\" class=\"dataframe\">\n",
       "  <thead>\n",
       "    <tr style=\"text-align: right;\">\n",
       "      <th></th>\n",
       "      <th></th>\n",
       "      <th>% of total sales per country</th>\n",
       "    </tr>\n",
       "    <tr>\n",
       "      <th>country</th>\n",
       "      <th>product_category</th>\n",
       "      <th></th>\n",
       "    </tr>\n",
       "  </thead>\n",
       "  <tbody>\n",
       "    <tr>\n",
       "      <th rowspan=\"3\" valign=\"top\">Australia</th>\n",
       "      <th>Accessories</th>\n",
       "      <td>55.55</td>\n",
       "    </tr>\n",
       "    <tr>\n",
       "      <th>Bikes</th>\n",
       "      <td>29.48</td>\n",
       "    </tr>\n",
       "    <tr>\n",
       "      <th>Clothing</th>\n",
       "      <td>14.97</td>\n",
       "    </tr>\n",
       "    <tr>\n",
       "      <th rowspan=\"3\" valign=\"top\">Canada</th>\n",
       "      <th>Accessories</th>\n",
       "      <td>72.40</td>\n",
       "    </tr>\n",
       "    <tr>\n",
       "      <th>Clothing</th>\n",
       "      <td>17.39</td>\n",
       "    </tr>\n",
       "    <tr>\n",
       "      <th>Bikes</th>\n",
       "      <td>10.20</td>\n",
       "    </tr>\n",
       "    <tr>\n",
       "      <th rowspan=\"3\" valign=\"top\">France</th>\n",
       "      <th>Accessories</th>\n",
       "      <td>57.47</td>\n",
       "    </tr>\n",
       "    <tr>\n",
       "      <th>Bikes</th>\n",
       "      <td>26.28</td>\n",
       "    </tr>\n",
       "    <tr>\n",
       "      <th>Clothing</th>\n",
       "      <td>16.25</td>\n",
       "    </tr>\n",
       "    <tr>\n",
       "      <th rowspan=\"3\" valign=\"top\">Germany</th>\n",
       "      <th>Accessories</th>\n",
       "      <td>56.96</td>\n",
       "    </tr>\n",
       "    <tr>\n",
       "      <th>Bikes</th>\n",
       "      <td>27.58</td>\n",
       "    </tr>\n",
       "    <tr>\n",
       "      <th>Clothing</th>\n",
       "      <td>15.47</td>\n",
       "    </tr>\n",
       "    <tr>\n",
       "      <th rowspan=\"3\" valign=\"top\">United Kingdom</th>\n",
       "      <th>Accessories</th>\n",
       "      <td>58.57</td>\n",
       "    </tr>\n",
       "    <tr>\n",
       "      <th>Bikes</th>\n",
       "      <td>25.13</td>\n",
       "    </tr>\n",
       "    <tr>\n",
       "      <th>Clothing</th>\n",
       "      <td>16.30</td>\n",
       "    </tr>\n",
       "    <tr>\n",
       "      <th rowspan=\"3\" valign=\"top\">United States</th>\n",
       "      <th>Accessories</th>\n",
       "      <td>60.25</td>\n",
       "    </tr>\n",
       "    <tr>\n",
       "      <th>Bikes</th>\n",
       "      <td>21.65</td>\n",
       "    </tr>\n",
       "    <tr>\n",
       "      <th>Clothing</th>\n",
       "      <td>18.11</td>\n",
       "    </tr>\n",
       "  </tbody>\n",
       "</table>\n",
       "</div>"
      ],
      "text/plain": [
       "                                 % of total sales per country\n",
       "country        product_category                              \n",
       "Australia      Accessories                              55.55\n",
       "               Bikes                                    29.48\n",
       "               Clothing                                 14.97\n",
       "Canada         Accessories                              72.40\n",
       "               Clothing                                 17.39\n",
       "               Bikes                                    10.20\n",
       "France         Accessories                              57.47\n",
       "               Bikes                                    26.28\n",
       "               Clothing                                 16.25\n",
       "Germany        Accessories                              56.96\n",
       "               Bikes                                    27.58\n",
       "               Clothing                                 15.47\n",
       "United Kingdom Accessories                              58.57\n",
       "               Bikes                                    25.13\n",
       "               Clothing                                 16.30\n",
       "United States  Accessories                              60.25\n",
       "               Bikes                                    21.65\n",
       "               Clothing                                 18.11"
      ]
     },
     "execution_count": 134,
     "metadata": {},
     "output_type": "execute_result"
    }
   ],
   "source": [
    "country_cat_perc = pd.DataFrame(df.groupby(\"country\")[\"product_category\"].value_counts(normalize=True).multiply(100).round(2))\n",
    "country_cat_perc.columns = [\"% of total sales per country\"]\n",
    "country_cat_perc"
   ]
  },
  {
   "cell_type": "code",
   "execution_count": 135,
   "metadata": {},
   "outputs": [],
   "source": [
    "country_cat_perc.reset_index(inplace=True)\n",
    "\n",
    "acc_perc = country_cat_perc.loc[country_cat_perc[\"product_category\"] == \"Accessories\"].drop(\"product_category\", axis=\"columns\").set_index(\"country\")\n",
    "acc_perc.columns = [\"%\"]\n",
    "\n",
    "bike_perc = country_cat_perc.loc[country_cat_perc[\"product_category\"] == \"Bikes\"].drop(\"product_category\", axis=\"columns\").set_index(\"country\")\n",
    "bike_perc.columns = [\"%\"]\n",
    "\n",
    "cloth_perc = country_cat_perc.loc[country_cat_perc[\"product_category\"] == \"Clothing\"].drop(\"product_category\", axis=\"columns\").set_index(\"country\")\n",
    "cloth_perc.columns = [\"%\"]"
   ]
  },
  {
   "cell_type": "code",
   "execution_count": 136,
   "metadata": {},
   "outputs": [
    {
     "data": {
      "text/plain": [
       "<matplotlib.legend.Legend at 0x7f9c1b611a60>"
      ]
     },
     "execution_count": 136,
     "metadata": {},
     "output_type": "execute_result"
    },
    {
     "data": {
      "image/png": "[encoded data removed]",
      "text/plain": [
       "<Figure size 1296x576 with 1 Axes>"
      ]
     },
     "metadata": {
      "needs_background": "light"
     },
     "output_type": "display_data"
    }
   ],
   "source": [
    "x_axis = np.arange(len(bike_perc))\n",
    "y_axis = np.arange(0, 76, 5)\n",
    "width = 0.20\n",
    "\n",
    "plt.figure(figsize=(18, 8))\n",
    "\n",
    "plt.grid(which=\"major\", linestyle=\"--\", zorder=0)\n",
    "plt.bar(x_axis - width, acc_perc[\"%\"], width, color=\"#042e60\", edgecolor=\"black\", zorder=3, label=\"Accessories\")\n",
    "plt.bar(x_axis, bike_perc[\"%\"], width, color=\"#fdac53\", edgecolor=\"black\", zorder=3, label=\"Bikes\")\n",
    "plt.bar(x_axis + width, cloth_perc[\"%\"], width, color=\"#c44240\", edgecolor=\"black\", zorder=3, label=\"Clothing\")\n",
    "\n",
    "plt.xticks(ticks=x_axis, labels=bike_perc.index)\n",
    "plt.yticks(ticks=y_axis, labels=[f\"{perc}%\" for perc in y_axis])\n",
    "plt.title(\"Category sales percentage by Country\")\n",
    "\n",
    "plt.legend()"
   ]
  },
  {
   "cell_type": "markdown",
   "metadata": {},
   "source": [
    "- Australia, Germany & France sell more bikes compared to the rest of the countries\n",
    "- Canada has a very low percentage of bike sales while a high percentage of accessory sales"
   ]
  },
  {
   "cell_type": "markdown",
   "metadata": {},
   "source": [
    "# Sales by age group\n",
    "___"
   ]
  },
  {
   "cell_type": "code",
   "execution_count": 137,
   "metadata": {},
   "outputs": [
    {
     "data": {
      "text/html": [
       "<div>\n",
       "<style scoped>\n",
       "    .dataframe tbody tr th:only-of-type {\n",
       "        vertical-align: middle;\n",
       "    }\n",
       "\n",
       "    .dataframe tbody tr th {\n",
       "        vertical-align: top;\n",
       "    }\n",
       "\n",
       "    .dataframe thead th {\n",
       "        text-align: right;\n",
       "    }\n",
       "</style>\n",
       "<table border=\"1\" class=\"dataframe\">\n",
       "  <thead>\n",
       "    <tr style=\"text-align: right;\">\n",
       "      <th></th>\n",
       "      <th>age</th>\n",
       "    </tr>\n",
       "  </thead>\n",
       "  <tbody>\n",
       "    <tr>\n",
       "      <th>min</th>\n",
       "      <td>17</td>\n",
       "    </tr>\n",
       "    <tr>\n",
       "      <th>max</th>\n",
       "      <td>87</td>\n",
       "    </tr>\n",
       "  </tbody>\n",
       "</table>\n",
       "</div>"
      ],
      "text/plain": [
       "     age\n",
       "min   17\n",
       "max   87"
      ]
     },
     "execution_count": 137,
     "metadata": {},
     "output_type": "execute_result"
    }
   ],
   "source": [
    "df[[\"age\"]].agg([\"min\", \"max\"])"
   ]
  },
  {
   "cell_type": "code",
   "execution_count": 138,
   "metadata": {},
   "outputs": [
    {
     "data": {
      "text/plain": [
       "Text(0, 0.5, 'Number of Sales')"
      ]
     },
     "execution_count": 138,
     "metadata": {},
     "output_type": "execute_result"
    },
    {
     "data": {
      "image/png": "[encoded data removed]",
      "text/plain": [
       "<Figure size 1296x576 with 1 Axes>"
      ]
     },
     "metadata": {
      "needs_background": "light"
     },
     "output_type": "display_data"
    }
   ],
   "source": [
    "age_groups = np.arange(15, 91, 5)\n",
    "big_age_groups = np.arange(15, 91, 10)\n",
    "y_axis = np.arange(0, 35_001, 2_500)\n",
    "\n",
    "fig, ax = plt.subplots(figsize=(18, 8))\n",
    "\n",
    "ax.grid(which=\"major\", axis=\"y\", linestyle=\"--\", zorder=0)\n",
    "ax.hist(df[\"age\"], bins=big_age_groups, color=\"#34568b\", edgecolor=\"black\", zorder=2)\n",
    "ax.hist(df[\"age\"], bins=age_groups, color=\"#88b04b\", edgecolor=\"black\", zorder=3)\n",
    "\n",
    "ax.set_xticks(ticks=age_groups)\n",
    "ax.set_yticks(ticks=y_axis, labels=[f\"{sales:,}\" for sales in y_axis])\n",
    "ax.set_title(\"Sales by Age group\")\n",
    "ax.set_xlabel(\"Age Group\")\n",
    "ax.set_ylabel(\"Number of Sales\")"
   ]
  },
  {
   "cell_type": "code",
   "execution_count": 139,
   "metadata": {},
   "outputs": [
    {
     "data": {
      "text/plain": [
       "65.44892804208504"
      ]
     },
     "execution_count": 139,
     "metadata": {},
     "output_type": "execute_result"
    }
   ],
   "source": [
    "100 * df.loc[ ( df[\"age\"] > 24 ) & ( df[\"age\"] < 46 ) ].shape[0] / df.shape[0]"
   ]
  },
  {
   "cell_type": "code",
   "execution_count": 140,
   "metadata": {},
   "outputs": [
    {
     "data": {
      "text/plain": [
       "29.45118259816713"
      ]
     },
     "execution_count": 140,
     "metadata": {},
     "output_type": "execute_result"
    }
   ],
   "source": [
    "100 * df.loc[ ( df[\"age\"] < 25 ) | ( ( df[\"age\"] > 45 ) & ( df[\"age\"] < 56 ) ) ].shape[0] / df.shape[0]"
   ]
  },
  {
   "cell_type": "markdown",
   "metadata": {},
   "source": [
    "- 65.45% of the customers are between the age of 25 to 45\n",
    "- 29.45% of the customers are either 15-25 or 45-55"
   ]
  },
  {
   "cell_type": "markdown",
   "metadata": {},
   "source": [
    "# Sales by date\n",
    "___\n",
    "Each row in the database represents a single sale, to a single customer.  \n",
    "To explore the sales by date, I'll group by date and calculate the summary of the profit, cost and revenue by day"
   ]
  },
  {
   "cell_type": "code",
   "execution_count": 141,
   "metadata": {},
   "outputs": [
    {
     "data": {
      "text/html": [
       "<div>\n",
       "<style scoped>\n",
       "    .dataframe tbody tr th:only-of-type {\n",
       "        vertical-align: middle;\n",
       "    }\n",
       "\n",
       "    .dataframe tbody tr th {\n",
       "        vertical-align: top;\n",
       "    }\n",
       "\n",
       "    .dataframe thead th {\n",
       "        text-align: right;\n",
       "    }\n",
       "</style>\n",
       "<table border=\"1\" class=\"dataframe\">\n",
       "  <thead>\n",
       "    <tr style=\"text-align: right;\">\n",
       "      <th></th>\n",
       "      <th>profit</th>\n",
       "      <th>cost</th>\n",
       "      <th>revenue</th>\n",
       "    </tr>\n",
       "    <tr>\n",
       "      <th>date</th>\n",
       "      <th></th>\n",
       "      <th></th>\n",
       "      <th></th>\n",
       "    </tr>\n",
       "  </thead>\n",
       "  <tbody>\n",
       "    <tr>\n",
       "      <th>2011-01-01</th>\n",
       "      <td>3225</td>\n",
       "      <td>9596.0</td>\n",
       "      <td>12821.0</td>\n",
       "    </tr>\n",
       "    <tr>\n",
       "      <th>2011-01-02</th>\n",
       "      <td>2925</td>\n",
       "      <td>8943.0</td>\n",
       "      <td>11868.0</td>\n",
       "    </tr>\n",
       "    <tr>\n",
       "      <th>2011-01-03</th>\n",
       "      <td>12174</td>\n",
       "      <td>19001.0</td>\n",
       "      <td>31175.0</td>\n",
       "    </tr>\n",
       "    <tr>\n",
       "      <th>2011-01-04</th>\n",
       "      <td>6240</td>\n",
       "      <td>12669.0</td>\n",
       "      <td>18909.0</td>\n",
       "    </tr>\n",
       "    <tr>\n",
       "      <th>2011-01-05</th>\n",
       "      <td>1644</td>\n",
       "      <td>3031.0</td>\n",
       "      <td>4675.0</td>\n",
       "    </tr>\n",
       "  </tbody>\n",
       "</table>\n",
       "</div>"
      ],
      "text/plain": [
       "            profit     cost  revenue\n",
       "date                                \n",
       "2011-01-01    3225   9596.0  12821.0\n",
       "2011-01-02    2925   8943.0  11868.0\n",
       "2011-01-03   12174  19001.0  31175.0\n",
       "2011-01-04    6240  12669.0  18909.0\n",
       "2011-01-05    1644   3031.0   4675.0"
      ]
     },
     "execution_count": 141,
     "metadata": {},
     "output_type": "execute_result"
    }
   ],
   "source": [
    "tdf = pd.DataFrame(df.groupby(\"date\").sum().drop([\"age\", \"order_quantity\", \"unit_cost\", \"unit_price\"], axis=\"columns\"))\n",
    "tdf.index = pd.to_datetime(tdf.index)\n",
    "tdf.head()"
   ]
  },
  {
   "cell_type": "markdown",
   "metadata": {},
   "source": [
    "The dataframe is grouped by month"
   ]
  },
  {
   "cell_type": "code",
   "execution_count": 142,
   "metadata": {},
   "outputs": [
    {
     "data": {
      "text/html": [
       "<div>\n",
       "<style scoped>\n",
       "    .dataframe tbody tr th:only-of-type {\n",
       "        vertical-align: middle;\n",
       "    }\n",
       "\n",
       "    .dataframe tbody tr th {\n",
       "        vertical-align: top;\n",
       "    }\n",
       "\n",
       "    .dataframe thead th {\n",
       "        text-align: right;\n",
       "    }\n",
       "</style>\n",
       "<table border=\"1\" class=\"dataframe\">\n",
       "  <thead>\n",
       "    <tr style=\"text-align: right;\">\n",
       "      <th></th>\n",
       "      <th>profit</th>\n",
       "      <th>cost</th>\n",
       "      <th>revenue</th>\n",
       "    </tr>\n",
       "    <tr>\n",
       "      <th>date</th>\n",
       "      <th></th>\n",
       "      <th></th>\n",
       "      <th></th>\n",
       "    </tr>\n",
       "  </thead>\n",
       "  <tbody>\n",
       "    <tr>\n",
       "      <th>2011-01-31</th>\n",
       "      <td>212849</td>\n",
       "      <td>462344.0</td>\n",
       "      <td>675193.0</td>\n",
       "    </tr>\n",
       "    <tr>\n",
       "      <th>2011-02-28</th>\n",
       "      <td>207144</td>\n",
       "      <td>430454.0</td>\n",
       "      <td>637598.0</td>\n",
       "    </tr>\n",
       "    <tr>\n",
       "      <th>2011-03-31</th>\n",
       "      <td>226404</td>\n",
       "      <td>482113.0</td>\n",
       "      <td>708517.0</td>\n",
       "    </tr>\n",
       "    <tr>\n",
       "      <th>2011-04-30</th>\n",
       "      <td>223601</td>\n",
       "      <td>475181.0</td>\n",
       "      <td>698782.0</td>\n",
       "    </tr>\n",
       "    <tr>\n",
       "      <th>2011-05-31</th>\n",
       "      <td>234689</td>\n",
       "      <td>499848.0</td>\n",
       "      <td>734537.0</td>\n",
       "    </tr>\n",
       "    <tr>\n",
       "      <th>...</th>\n",
       "      <td>...</td>\n",
       "      <td>...</td>\n",
       "      <td>...</td>\n",
       "    </tr>\n",
       "    <tr>\n",
       "      <th>2016-03-31</th>\n",
       "      <td>861469</td>\n",
       "      <td>1281724.0</td>\n",
       "      <td>2143193.0</td>\n",
       "    </tr>\n",
       "    <tr>\n",
       "      <th>2016-04-30</th>\n",
       "      <td>920252</td>\n",
       "      <td>1357716.0</td>\n",
       "      <td>2277968.0</td>\n",
       "    </tr>\n",
       "    <tr>\n",
       "      <th>2016-05-31</th>\n",
       "      <td>1063010</td>\n",
       "      <td>1576388.0</td>\n",
       "      <td>2639398.0</td>\n",
       "    </tr>\n",
       "    <tr>\n",
       "      <th>2016-06-30</th>\n",
       "      <td>1180777</td>\n",
       "      <td>1831509.0</td>\n",
       "      <td>3012286.0</td>\n",
       "    </tr>\n",
       "    <tr>\n",
       "      <th>2016-07-31</th>\n",
       "      <td>219084</td>\n",
       "      <td>219917.0</td>\n",
       "      <td>439001.0</td>\n",
       "    </tr>\n",
       "  </tbody>\n",
       "</table>\n",
       "<p>67 rows × 3 columns</p>\n",
       "</div>"
      ],
      "text/plain": [
       "             profit       cost    revenue\n",
       "date                                     \n",
       "2011-01-31   212849   462344.0   675193.0\n",
       "2011-02-28   207144   430454.0   637598.0\n",
       "2011-03-31   226404   482113.0   708517.0\n",
       "2011-04-30   223601   475181.0   698782.0\n",
       "2011-05-31   234689   499848.0   734537.0\n",
       "...             ...        ...        ...\n",
       "2016-03-31   861469  1281724.0  2143193.0\n",
       "2016-04-30   920252  1357716.0  2277968.0\n",
       "2016-05-31  1063010  1576388.0  2639398.0\n",
       "2016-06-30  1180777  1831509.0  3012286.0\n",
       "2016-07-31   219084   219917.0   439001.0\n",
       "\n",
       "[67 rows x 3 columns]"
      ]
     },
     "execution_count": 142,
     "metadata": {},
     "output_type": "execute_result"
    }
   ],
   "source": [
    "mdf = tdf.resample(\"M\").sum()\n",
    "mdf"
   ]
  },
  {
   "cell_type": "code",
   "execution_count": 143,
   "metadata": {},
   "outputs": [
    {
     "data": {
      "text/plain": [
       "<matplotlib.legend.Legend at 0x7f9c1b673250>"
      ]
     },
     "execution_count": 143,
     "metadata": {},
     "output_type": "execute_result"
    },
    {
     "data": {
      "image/png": "[encoded data removed]",
      "text/plain": [
       "<Figure size 1296x576 with 1 Axes>"
      ]
     },
     "metadata": {
      "needs_background": "light"
     },
     "output_type": "display_data"
    }
   ],
   "source": [
    "fig, ax = plt.subplots(figsize=(18, 8))\n",
    "\n",
    "y_axis = np.arange(0, 3_500_501, 250_000)\n",
    "\n",
    "ax.grid(which=\"both\", linestyle=\"--\", zorder=0)\n",
    "ax.fill_between(mdf.index, mdf[\"profit\"], 0, zorder=3, color=\"#79c753\", alpha=0.75, label=\"Profit\")\n",
    "ax.fill_between(mdf.index, mdf[\"profit\"], mdf[\"cost\"], zorder=3, color=\"#cd212a\", alpha=0.75, label=\"Cost\")\n",
    "ax.fill_between(mdf.index, mdf[\"cost\"], mdf[\"revenue\"], zorder=3, color=\"#34568b\", alpha=0.75, label=\"Revenue\")\n",
    "\n",
    "ax.set_yticks(ticks=y_axis, labels=[f\"{usd:,}$\" for usd in y_axis], rotation=25)\n",
    "ax.set_xlim([mdf.index[0], mdf.index[-1]])\n",
    "ax.set_ylim(0)\n",
    "ax.set_title(\"Total Revenue - Cost - Profit by month\")\n",
    "ax.set_xlabel(\"Date\")\n",
    "ax.legend(loc=\"upper left\")"
   ]
  },
  {
   "cell_type": "markdown",
   "metadata": {},
   "source": [
    "- Every new years' eve there seems to be a consistent spike in sales\n",
    "- The overall profit has increased"
   ]
  },
  {
   "cell_type": "code",
   "execution_count": 144,
   "metadata": {},
   "outputs": [
    {
     "data": {
      "text/html": [
       "<div>\n",
       "<style scoped>\n",
       "    .dataframe tbody tr th:only-of-type {\n",
       "        vertical-align: middle;\n",
       "    }\n",
       "\n",
       "    .dataframe tbody tr th {\n",
       "        vertical-align: top;\n",
       "    }\n",
       "\n",
       "    .dataframe thead th {\n",
       "        text-align: right;\n",
       "    }\n",
       "</style>\n",
       "<table border=\"1\" class=\"dataframe\">\n",
       "  <thead>\n",
       "    <tr style=\"text-align: right;\">\n",
       "      <th></th>\n",
       "      <th>profit</th>\n",
       "      <th>cost</th>\n",
       "      <th>revenue</th>\n",
       "    </tr>\n",
       "    <tr>\n",
       "      <th>date</th>\n",
       "      <th></th>\n",
       "      <th></th>\n",
       "      <th></th>\n",
       "    </tr>\n",
       "  </thead>\n",
       "  <tbody>\n",
       "    <tr>\n",
       "      <th>2014-01-31</th>\n",
       "      <td>692563</td>\n",
       "      <td>985899.0</td>\n",
       "      <td>1678462.0</td>\n",
       "    </tr>\n",
       "    <tr>\n",
       "      <th>2014-02-28</th>\n",
       "      <td>671502</td>\n",
       "      <td>931785.0</td>\n",
       "      <td>1603287.0</td>\n",
       "    </tr>\n",
       "    <tr>\n",
       "      <th>2014-03-31</th>\n",
       "      <td>738322</td>\n",
       "      <td>1035460.0</td>\n",
       "      <td>1773782.0</td>\n",
       "    </tr>\n",
       "    <tr>\n",
       "      <th>2014-04-30</th>\n",
       "      <td>777583</td>\n",
       "      <td>1076611.0</td>\n",
       "      <td>1854194.0</td>\n",
       "    </tr>\n",
       "    <tr>\n",
       "      <th>2014-05-31</th>\n",
       "      <td>892175</td>\n",
       "      <td>1237008.0</td>\n",
       "      <td>2129183.0</td>\n",
       "    </tr>\n",
       "    <tr>\n",
       "      <th>2014-06-30</th>\n",
       "      <td>960162</td>\n",
       "      <td>1404870.0</td>\n",
       "      <td>2365032.0</td>\n",
       "    </tr>\n",
       "    <tr>\n",
       "      <th>2014-07-31</th>\n",
       "      <td>226792</td>\n",
       "      <td>227126.0</td>\n",
       "      <td>453918.0</td>\n",
       "    </tr>\n",
       "  </tbody>\n",
       "</table>\n",
       "</div>"
      ],
      "text/plain": [
       "            profit       cost    revenue\n",
       "date                                    \n",
       "2014-01-31  692563   985899.0  1678462.0\n",
       "2014-02-28  671502   931785.0  1603287.0\n",
       "2014-03-31  738322  1035460.0  1773782.0\n",
       "2014-04-30  777583  1076611.0  1854194.0\n",
       "2014-05-31  892175  1237008.0  2129183.0\n",
       "2014-06-30  960162  1404870.0  2365032.0\n",
       "2014-07-31  226792   227126.0   453918.0"
      ]
     },
     "execution_count": 144,
     "metadata": {},
     "output_type": "execute_result"
    }
   ],
   "source": [
    "tdf.loc[tdf.index.year == 2014].resample(\"M\").sum()"
   ]
  },
  {
   "cell_type": "markdown",
   "metadata": {},
   "source": [
    "There are missing sales during the 5 last months of 2014"
   ]
  },
  {
   "cell_type": "markdown",
   "metadata": {},
   "source": [
    "# Total Revenue - Cost - Profit by country\n",
    "___"
   ]
  },
  {
   "cell_type": "code",
   "execution_count": 145,
   "metadata": {},
   "outputs": [
    {
     "data": {
      "text/html": [
       "<div>\n",
       "<style scoped>\n",
       "    .dataframe tbody tr th:only-of-type {\n",
       "        vertical-align: middle;\n",
       "    }\n",
       "\n",
       "    .dataframe tbody tr th {\n",
       "        vertical-align: top;\n",
       "    }\n",
       "\n",
       "    .dataframe thead th {\n",
       "        text-align: right;\n",
       "    }\n",
       "</style>\n",
       "<table border=\"1\" class=\"dataframe\">\n",
       "  <thead>\n",
       "    <tr style=\"text-align: right;\">\n",
       "      <th></th>\n",
       "      <th>revenue</th>\n",
       "      <th>cost</th>\n",
       "      <th>profit</th>\n",
       "    </tr>\n",
       "    <tr>\n",
       "      <th>country</th>\n",
       "      <th></th>\n",
       "      <th></th>\n",
       "      <th></th>\n",
       "    </tr>\n",
       "  </thead>\n",
       "  <tbody>\n",
       "    <tr>\n",
       "      <th>United States</th>\n",
       "      <td>24571859.0</td>\n",
       "      <td>14887097.0</td>\n",
       "      <td>9684762</td>\n",
       "    </tr>\n",
       "    <tr>\n",
       "      <th>Australia</th>\n",
       "      <td>19366318.0</td>\n",
       "      <td>13199506.0</td>\n",
       "      <td>6166812</td>\n",
       "    </tr>\n",
       "    <tr>\n",
       "      <th>United Kingdom</th>\n",
       "      <td>9082515.0</td>\n",
       "      <td>5281481.0</td>\n",
       "      <td>3801034</td>\n",
       "    </tr>\n",
       "    <tr>\n",
       "      <th>Canada</th>\n",
       "      <td>7262193.0</td>\n",
       "      <td>3837846.0</td>\n",
       "      <td>3424347</td>\n",
       "    </tr>\n",
       "    <tr>\n",
       "      <th>Germany</th>\n",
       "      <td>7779075.0</td>\n",
       "      <td>4864780.0</td>\n",
       "      <td>2914295</td>\n",
       "    </tr>\n",
       "    <tr>\n",
       "      <th>France</th>\n",
       "      <td>7390007.0</td>\n",
       "      <td>4871554.0</td>\n",
       "      <td>2518453</td>\n",
       "    </tr>\n",
       "  </tbody>\n",
       "</table>\n",
       "</div>"
      ],
      "text/plain": [
       "                   revenue        cost   profit\n",
       "country                                        \n",
       "United States   24571859.0  14887097.0  9684762\n",
       "Australia       19366318.0  13199506.0  6166812\n",
       "United Kingdom   9082515.0   5281481.0  3801034\n",
       "Canada           7262193.0   3837846.0  3424347\n",
       "Germany          7779075.0   4864780.0  2914295\n",
       "France           7390007.0   4871554.0  2518453"
      ]
     },
     "execution_count": 145,
     "metadata": {},
     "output_type": "execute_result"
    }
   ],
   "source": [
    "earnings_table = countrygroup[[\"revenue\", \"cost\", \"profit\"]].sum().sort_values(by=\"profit\", ascending=False)\n",
    "earnings_table"
   ]
  },
  {
   "cell_type": "code",
   "execution_count": 146,
   "metadata": {},
   "outputs": [
    {
     "data": {
      "text/plain": [
       "<matplotlib.legend.Legend at 0x7f9c1a9a7670>"
      ]
     },
     "execution_count": 146,
     "metadata": {},
     "output_type": "execute_result"
    },
    {
     "data": {
      "image/png": "[encoded data removed]",
      "text/plain": [
       "<Figure size 1296x576 with 1 Axes>"
      ]
     },
     "metadata": {
      "needs_background": "light"
     },
     "output_type": "display_data"
    }
   ],
   "source": [
    "fig, ax = plt.subplots(figsize=(18, 8))\n",
    "\n",
    "x_axis = np.arange(len(countries))\n",
    "y_axis = np.arange(0, 26_000_001, 2_000_000)\n",
    "\n",
    "earnings_table.plot.bar(color=[\"#34568b\", \"#cd212a\", \"#79c753\"], edgecolor=\"black\", rot=0, zorder=3, ax=ax)\n",
    "ax.grid(which=\"major\", axis=\"y\", linestyle=\"--\", zorder=0)\n",
    "\n",
    "ax.set_xticks(ticks=x_axis, labels=earnings_table.index)\n",
    "ax.set_yticks(ticks=y_axis, labels=[f\"{usd / 1e6:.0f} mil\" for usd in y_axis])\n",
    "ax.set_title(\"Total Revenue - Cost - Profit by country\")\n",
    "ax.set_xlabel(\"\")\n",
    "ax.set_ylabel(\"USD\")\n",
    "ax.legend([\"Revenue\", \"Cost\", \"Profit\"], loc=\"upper right\")"
   ]
  },
  {
   "cell_type": "markdown",
   "metadata": {},
   "source": [
    "- Australias' product cost over profit ratio is high"
   ]
  },
  {
   "cell_type": "code",
   "execution_count": 147,
   "metadata": {},
   "outputs": [
    {
     "data": {
      "text/html": [
       "<div>\n",
       "<style scoped>\n",
       "    .dataframe tbody tr th:only-of-type {\n",
       "        vertical-align: middle;\n",
       "    }\n",
       "\n",
       "    .dataframe tbody tr th {\n",
       "        vertical-align: top;\n",
       "    }\n",
       "\n",
       "    .dataframe thead th {\n",
       "        text-align: right;\n",
       "    }\n",
       "</style>\n",
       "<table border=\"1\" class=\"dataframe\">\n",
       "  <thead>\n",
       "    <tr style=\"text-align: right;\">\n",
       "      <th></th>\n",
       "      <th>Revenue (mil)</th>\n",
       "      <th>Cost (mil)</th>\n",
       "      <th>Cost (% of Revenue)</th>\n",
       "      <th>Profit (mil)</th>\n",
       "      <th>Profit (% of Revenue)</th>\n",
       "      <th>Profit/Cost (%)</th>\n",
       "    </tr>\n",
       "    <tr>\n",
       "      <th>country</th>\n",
       "      <th></th>\n",
       "      <th></th>\n",
       "      <th></th>\n",
       "      <th></th>\n",
       "      <th></th>\n",
       "      <th></th>\n",
       "    </tr>\n",
       "  </thead>\n",
       "  <tbody>\n",
       "    <tr>\n",
       "      <th>Canada</th>\n",
       "      <td>7.26</td>\n",
       "      <td>3.84</td>\n",
       "      <td>52.89</td>\n",
       "      <td>3.42</td>\n",
       "      <td>47.11</td>\n",
       "      <td>89.06</td>\n",
       "    </tr>\n",
       "    <tr>\n",
       "      <th>United Kingdom</th>\n",
       "      <td>9.08</td>\n",
       "      <td>5.28</td>\n",
       "      <td>58.15</td>\n",
       "      <td>3.80</td>\n",
       "      <td>41.85</td>\n",
       "      <td>71.97</td>\n",
       "    </tr>\n",
       "    <tr>\n",
       "      <th>United States</th>\n",
       "      <td>24.57</td>\n",
       "      <td>14.89</td>\n",
       "      <td>60.60</td>\n",
       "      <td>9.68</td>\n",
       "      <td>39.40</td>\n",
       "      <td>65.01</td>\n",
       "    </tr>\n",
       "    <tr>\n",
       "      <th>Germany</th>\n",
       "      <td>7.78</td>\n",
       "      <td>4.86</td>\n",
       "      <td>62.47</td>\n",
       "      <td>2.91</td>\n",
       "      <td>37.40</td>\n",
       "      <td>59.88</td>\n",
       "    </tr>\n",
       "    <tr>\n",
       "      <th>France</th>\n",
       "      <td>7.39</td>\n",
       "      <td>4.87</td>\n",
       "      <td>65.90</td>\n",
       "      <td>2.52</td>\n",
       "      <td>34.10</td>\n",
       "      <td>51.75</td>\n",
       "    </tr>\n",
       "    <tr>\n",
       "      <th>Australia</th>\n",
       "      <td>19.37</td>\n",
       "      <td>13.20</td>\n",
       "      <td>68.15</td>\n",
       "      <td>6.17</td>\n",
       "      <td>31.85</td>\n",
       "      <td>46.74</td>\n",
       "    </tr>\n",
       "  </tbody>\n",
       "</table>\n",
       "</div>"
      ],
      "text/plain": [
       "                Revenue (mil)  Cost (mil)  Cost (% of Revenue)  Profit (mil)  \\\n",
       "country                                                                        \n",
       "Canada                   7.26        3.84                52.89          3.42   \n",
       "United Kingdom           9.08        5.28                58.15          3.80   \n",
       "United States           24.57       14.89                60.60          9.68   \n",
       "Germany                  7.78        4.86                62.47          2.91   \n",
       "France                   7.39        4.87                65.90          2.52   \n",
       "Australia               19.37       13.20                68.15          6.17   \n",
       "\n",
       "                Profit (% of Revenue)  Profit/Cost (%)  \n",
       "country                                                 \n",
       "Canada                          47.11            89.06  \n",
       "United Kingdom                  41.85            71.97  \n",
       "United States                   39.40            65.01  \n",
       "Germany                         37.40            59.88  \n",
       "France                          34.10            51.75  \n",
       "Australia                       31.85            46.74  "
      ]
     },
     "execution_count": 147,
     "metadata": {},
     "output_type": "execute_result"
    }
   ],
   "source": [
    "earnings_table[\"revenue\"] = round(earnings_table[\"revenue\"] / 1e6, 2)\n",
    "earnings_table[\"cost\"] = round(earnings_table[\"cost\"] / 1e6, 2)\n",
    "earnings_table[\"profit\"] = round(earnings_table[\"profit\"] / 1e6, 2)\n",
    "\n",
    "earnings_table[\"Cost (% of Revenue)\"] = round(100 * earnings_table[\"cost\"] / earnings_table[\"revenue\"], 2)\n",
    "earnings_table[\"Profit (% of Revenue)\"] = round(100 * earnings_table[\"profit\"] / earnings_table[\"revenue\"], 2)\n",
    "earnings_table[\"Profit/Cost (%)\"] = round(100 * earnings_table[\"profit\"] / earnings_table[\"cost\"], 2)\n",
    "\n",
    "earnings_table.rename({\"revenue\": \"Revenue (mil)\", \"cost\": \"Cost (mil)\", \"profit\": \"Profit (mil)\", \"revenue\": \"Revenue (mil)\"}, axis=\"columns\", inplace=True)\n",
    "earnings_table = earnings_table[[\"Revenue (mil)\", \"Cost (mil)\", \"Cost (% of Revenue)\", \"Profit (mil)\", \"Profit (% of Revenue)\", \"Profit/Cost (%)\"]]\n",
    "\n",
    "earnings_table.sort_values(by=\"Profit/Cost (%)\", ascending=False)"
   ]
  },
  {
   "cell_type": "markdown",
   "metadata": {},
   "source": [
    "- 68.15% of Australias' revenue (13.2 out of 19.37 million USD) is the cost of the products sold\n",
    "- 65.9% of Frances' revenue (4.87 out of 7.39 million USD) is the cost of the products sold\n",
    "\n",
    "Both of these countries sell more bikes compared to others.  \n",
    "Additionally, Canada sells an extremely low amount of bikes, and has the highest profit compared to its' revenue\n",
    "\n",
    "Let's check the bike prices"
   ]
  },
  {
   "cell_type": "code",
   "execution_count": 148,
   "metadata": {},
   "outputs": [
    {
     "data": {
      "text/html": [
       "<div>\n",
       "<style scoped>\n",
       "    .dataframe tbody tr th:only-of-type {\n",
       "        vertical-align: middle;\n",
       "    }\n",
       "\n",
       "    .dataframe tbody tr th {\n",
       "        vertical-align: top;\n",
       "    }\n",
       "\n",
       "    .dataframe thead th {\n",
       "        text-align: right;\n",
       "    }\n",
       "</style>\n",
       "<table border=\"1\" class=\"dataframe\">\n",
       "  <thead>\n",
       "    <tr style=\"text-align: right;\">\n",
       "      <th></th>\n",
       "      <th>Product</th>\n",
       "      <th>Unit Cost</th>\n",
       "      <th>Unit Price</th>\n",
       "      <th>Profit per Unit</th>\n",
       "      <th>Profit (%)</th>\n",
       "    </tr>\n",
       "  </thead>\n",
       "  <tbody>\n",
       "    <tr>\n",
       "      <th>0</th>\n",
       "      <td>Road-150 Red</td>\n",
       "      <td>2171</td>\n",
       "      <td>3578</td>\n",
       "      <td>1407</td>\n",
       "      <td>4.43</td>\n",
       "    </tr>\n",
       "    <tr>\n",
       "      <th>1</th>\n",
       "      <td>Mountain-100 Black</td>\n",
       "      <td>1898</td>\n",
       "      <td>3375</td>\n",
       "      <td>1477</td>\n",
       "      <td>8.76</td>\n",
       "    </tr>\n",
       "    <tr>\n",
       "      <th>2</th>\n",
       "      <td>Mountain-100 Silver</td>\n",
       "      <td>1912</td>\n",
       "      <td>3400</td>\n",
       "      <td>1488</td>\n",
       "      <td>9.27</td>\n",
       "    </tr>\n",
       "    <tr>\n",
       "      <th>3</th>\n",
       "      <td>Road-250 Red</td>\n",
       "      <td>1555</td>\n",
       "      <td>2443</td>\n",
       "      <td>888</td>\n",
       "      <td>14.96</td>\n",
       "    </tr>\n",
       "    <tr>\n",
       "      <th>4</th>\n",
       "      <td>Road-250 Black</td>\n",
       "      <td>1555</td>\n",
       "      <td>2443</td>\n",
       "      <td>888</td>\n",
       "      <td>14.96</td>\n",
       "    </tr>\n",
       "    <tr>\n",
       "      <th>5</th>\n",
       "      <td>Road-250 Red</td>\n",
       "      <td>1519</td>\n",
       "      <td>2443</td>\n",
       "      <td>924</td>\n",
       "      <td>17.69</td>\n",
       "    </tr>\n",
       "    <tr>\n",
       "      <th>6</th>\n",
       "      <td>Mountain-200 Black</td>\n",
       "      <td>1252</td>\n",
       "      <td>2295</td>\n",
       "      <td>1043</td>\n",
       "      <td>30.96</td>\n",
       "    </tr>\n",
       "    <tr>\n",
       "      <th>7</th>\n",
       "      <td>Mountain-200 Silver</td>\n",
       "      <td>1266</td>\n",
       "      <td>2320</td>\n",
       "      <td>1054</td>\n",
       "      <td>31.49</td>\n",
       "    </tr>\n",
       "    <tr>\n",
       "      <th>8</th>\n",
       "      <td>Road-750 Black</td>\n",
       "      <td>344</td>\n",
       "      <td>540</td>\n",
       "      <td>196</td>\n",
       "      <td>56.98</td>\n",
       "    </tr>\n",
       "    <tr>\n",
       "      <th>9</th>\n",
       "      <td>Road-350-W Yellow</td>\n",
       "      <td>1083</td>\n",
       "      <td>1701</td>\n",
       "      <td>618</td>\n",
       "      <td>57.06</td>\n",
       "    </tr>\n",
       "    <tr>\n",
       "      <th>10</th>\n",
       "      <td>Road-550-W Yellow</td>\n",
       "      <td>713</td>\n",
       "      <td>1120</td>\n",
       "      <td>407</td>\n",
       "      <td>57.08</td>\n",
       "    </tr>\n",
       "    <tr>\n",
       "      <th>11</th>\n",
       "      <td>Road-650 Red</td>\n",
       "      <td>487</td>\n",
       "      <td>783</td>\n",
       "      <td>296</td>\n",
       "      <td>60.78</td>\n",
       "    </tr>\n",
       "    <tr>\n",
       "      <th>12</th>\n",
       "      <td>Road-650 Black</td>\n",
       "      <td>487</td>\n",
       "      <td>783</td>\n",
       "      <td>296</td>\n",
       "      <td>60.78</td>\n",
       "    </tr>\n",
       "    <tr>\n",
       "      <th>13</th>\n",
       "      <td>Mountain-500 Black</td>\n",
       "      <td>295</td>\n",
       "      <td>540</td>\n",
       "      <td>245</td>\n",
       "      <td>83.05</td>\n",
       "    </tr>\n",
       "    <tr>\n",
       "      <th>14</th>\n",
       "      <td>Mountain-400-W Silver</td>\n",
       "      <td>420</td>\n",
       "      <td>769</td>\n",
       "      <td>349</td>\n",
       "      <td>83.10</td>\n",
       "    </tr>\n",
       "    <tr>\n",
       "      <th>15</th>\n",
       "      <td>Mountain-500 Silver</td>\n",
       "      <td>308</td>\n",
       "      <td>565</td>\n",
       "      <td>257</td>\n",
       "      <td>83.44</td>\n",
       "    </tr>\n",
       "  </tbody>\n",
       "</table>\n",
       "</div>"
      ],
      "text/plain": [
       "                  Product  Unit Cost  Unit Price  Profit per Unit  Profit (%)\n",
       "0            Road-150 Red       2171        3578             1407        4.43\n",
       "1      Mountain-100 Black       1898        3375             1477        8.76\n",
       "2     Mountain-100 Silver       1912        3400             1488        9.27\n",
       "3            Road-250 Red       1555        2443              888       14.96\n",
       "4          Road-250 Black       1555        2443              888       14.96\n",
       "5            Road-250 Red       1519        2443              924       17.69\n",
       "6      Mountain-200 Black       1252        2295             1043       30.96\n",
       "7     Mountain-200 Silver       1266        2320             1054       31.49\n",
       "8          Road-750 Black        344         540              196       56.98\n",
       "9       Road-350-W Yellow       1083        1701              618       57.06\n",
       "10      Road-550-W Yellow        713        1120              407       57.08\n",
       "11           Road-650 Red        487         783              296       60.78\n",
       "12         Road-650 Black        487         783              296       60.78\n",
       "13     Mountain-500 Black        295         540              245       83.05\n",
       "14  Mountain-400-W Silver        420         769              349       83.10\n",
       "15    Mountain-500 Silver        308         565              257       83.44"
      ]
     },
     "execution_count": 148,
     "metadata": {},
     "output_type": "execute_result"
    }
   ],
   "source": [
    "bike_df = df.loc[df[\"product_category\"] == \"Bikes\", [\"product\", \"unit_cost\", \"unit_price\"]]\n",
    "\n",
    "bike_df[\"product\"] = bike_df[\"product\"].str.replace(\", \\d{2}\", \"\", regex=True)\n",
    "bike_df.drop_duplicates(inplace=True)\n",
    "\n",
    "bike_df[\"Profit per Unit\"] = bike_df[\"unit_price\"] - bike_df[\"unit_cost\"]\n",
    "bike_df[\"Profit (%)\"] = round(100 * bike_df[\"Profit per Unit\"] / bike_df[\"unit_cost\"], 2)\n",
    "\n",
    "bike_df.rename({\"product\": \"Product\", \"unit_cost\": \"Unit Cost\", \"unit_price\": \"Unit Price\"}, axis=\"columns\", inplace=True)\n",
    "bike_df.sort_values(by=\"Profit (%)\", inplace=True)\n",
    "bike_df.index = range(bike_df.shape[0])\n",
    "\n",
    "bike_df"
   ]
  },
  {
   "cell_type": "markdown",
   "metadata": {},
   "source": [
    "- The profit from bike sales ranges from 4.43% to 83.44%\n",
    "\n",
    "The bike prices might need adjusting"
   ]
  },
  {
   "cell_type": "markdown",
   "metadata": {},
   "source": [
    "# Losses\n",
    "___"
   ]
  },
  {
   "cell_type": "code",
   "execution_count": 149,
   "metadata": {},
   "outputs": [
    {
     "data": {
      "text/html": [
       "<div>\n",
       "<style scoped>\n",
       "    .dataframe tbody tr th:only-of-type {\n",
       "        vertical-align: middle;\n",
       "    }\n",
       "\n",
       "    .dataframe tbody tr th {\n",
       "        vertical-align: top;\n",
       "    }\n",
       "\n",
       "    .dataframe thead th {\n",
       "        text-align: right;\n",
       "    }\n",
       "</style>\n",
       "<table border=\"1\" class=\"dataframe\">\n",
       "  <thead>\n",
       "    <tr style=\"text-align: right;\">\n",
       "      <th></th>\n",
       "      <th>date</th>\n",
       "      <th>age</th>\n",
       "      <th>sex</th>\n",
       "      <th>country</th>\n",
       "      <th>state</th>\n",
       "      <th>product_category</th>\n",
       "      <th>sub_category</th>\n",
       "      <th>product</th>\n",
       "      <th>order_quantity</th>\n",
       "      <th>unit_cost</th>\n",
       "      <th>unit_price</th>\n",
       "      <th>profit</th>\n",
       "      <th>cost</th>\n",
       "      <th>revenue</th>\n",
       "    </tr>\n",
       "  </thead>\n",
       "  <tbody>\n",
       "    <tr>\n",
       "      <th>7920</th>\n",
       "      <td>2013-07-22</td>\n",
       "      <td>45</td>\n",
       "      <td>F</td>\n",
       "      <td>France</td>\n",
       "      <td>Yveline</td>\n",
       "      <td>Clothing</td>\n",
       "      <td>Jerseys</td>\n",
       "      <td>Short-Sleeve Classic Jersey, S</td>\n",
       "      <td>25</td>\n",
       "      <td>42</td>\n",
       "      <td>54</td>\n",
       "      <td>-24</td>\n",
       "      <td>1050</td>\n",
       "      <td>1026</td>\n",
       "    </tr>\n",
       "    <tr>\n",
       "      <th>12640</th>\n",
       "      <td>2013-09-12</td>\n",
       "      <td>22</td>\n",
       "      <td>M</td>\n",
       "      <td>France</td>\n",
       "      <td>Yveline</td>\n",
       "      <td>Clothing</td>\n",
       "      <td>Caps</td>\n",
       "      <td>AWC Logo Cap</td>\n",
       "      <td>4</td>\n",
       "      <td>7</td>\n",
       "      <td>9</td>\n",
       "      <td>-1</td>\n",
       "      <td>28</td>\n",
       "      <td>27</td>\n",
       "    </tr>\n",
       "    <tr>\n",
       "      <th>13140</th>\n",
       "      <td>2013-09-16</td>\n",
       "      <td>25</td>\n",
       "      <td>M</td>\n",
       "      <td>France</td>\n",
       "      <td>Yveline</td>\n",
       "      <td>Clothing</td>\n",
       "      <td>Caps</td>\n",
       "      <td>AWC Logo Cap</td>\n",
       "      <td>18</td>\n",
       "      <td>7</td>\n",
       "      <td>9</td>\n",
       "      <td>-3</td>\n",
       "      <td>126</td>\n",
       "      <td>123</td>\n",
       "    </tr>\n",
       "    <tr>\n",
       "      <th>15793</th>\n",
       "      <td>2013-10-09</td>\n",
       "      <td>31</td>\n",
       "      <td>M</td>\n",
       "      <td>France</td>\n",
       "      <td>Yveline</td>\n",
       "      <td>Clothing</td>\n",
       "      <td>Caps</td>\n",
       "      <td>AWC Logo Cap</td>\n",
       "      <td>13</td>\n",
       "      <td>7</td>\n",
       "      <td>9</td>\n",
       "      <td>-2</td>\n",
       "      <td>91</td>\n",
       "      <td>89</td>\n",
       "    </tr>\n",
       "    <tr>\n",
       "      <th>15819</th>\n",
       "      <td>2013-10-09</td>\n",
       "      <td>31</td>\n",
       "      <td>M</td>\n",
       "      <td>France</td>\n",
       "      <td>Yveline</td>\n",
       "      <td>Clothing</td>\n",
       "      <td>Jerseys</td>\n",
       "      <td>Short-Sleeve Classic Jersey, L</td>\n",
       "      <td>26</td>\n",
       "      <td>42</td>\n",
       "      <td>54</td>\n",
       "      <td>-25</td>\n",
       "      <td>1092</td>\n",
       "      <td>1067</td>\n",
       "    </tr>\n",
       "  </tbody>\n",
       "</table>\n",
       "</div>"
      ],
      "text/plain": [
       "             date  age sex country    state product_category sub_category  \\\n",
       "7920   2013-07-22   45   F  France  Yveline         Clothing      Jerseys   \n",
       "12640  2013-09-12   22   M  France  Yveline         Clothing         Caps   \n",
       "13140  2013-09-16   25   M  France  Yveline         Clothing         Caps   \n",
       "15793  2013-10-09   31   M  France  Yveline         Clothing         Caps   \n",
       "15819  2013-10-09   31   M  France  Yveline         Clothing      Jerseys   \n",
       "\n",
       "                              product  order_quantity  unit_cost  unit_price  \\\n",
       "7920   Short-Sleeve Classic Jersey, S              25         42          54   \n",
       "12640                    AWC Logo Cap               4          7           9   \n",
       "13140                    AWC Logo Cap              18          7           9   \n",
       "15793                    AWC Logo Cap              13          7           9   \n",
       "15819  Short-Sleeve Classic Jersey, L              26         42          54   \n",
       "\n",
       "       profit  cost  revenue  \n",
       "7920      -24  1050     1026  \n",
       "12640      -1    28       27  \n",
       "13140      -3   126      123  \n",
       "15793      -2    91       89  \n",
       "15819     -25  1092     1067  "
      ]
     },
     "execution_count": 149,
     "metadata": {},
     "output_type": "execute_result"
    }
   ],
   "source": [
    "loss = df.loc[df[\"profit\"] < 0]\n",
    "loss.head()"
   ]
  },
  {
   "cell_type": "code",
   "execution_count": 150,
   "metadata": {},
   "outputs": [
    {
     "data": {
      "text/html": [
       "<div>\n",
       "<style scoped>\n",
       "    .dataframe tbody tr th:only-of-type {\n",
       "        vertical-align: middle;\n",
       "    }\n",
       "\n",
       "    .dataframe tbody tr th {\n",
       "        vertical-align: top;\n",
       "    }\n",
       "\n",
       "    .dataframe thead th {\n",
       "        text-align: right;\n",
       "    }\n",
       "</style>\n",
       "<table border=\"1\" class=\"dataframe\">\n",
       "  <thead>\n",
       "    <tr style=\"text-align: right;\">\n",
       "      <th></th>\n",
       "      <th>date</th>\n",
       "      <th>age</th>\n",
       "      <th>sex</th>\n",
       "      <th>country</th>\n",
       "      <th>state</th>\n",
       "      <th>product_category</th>\n",
       "      <th>sub_category</th>\n",
       "      <th>product</th>\n",
       "      <th>order_quantity</th>\n",
       "      <th>unit_cost</th>\n",
       "      <th>unit_price</th>\n",
       "      <th>profit</th>\n",
       "      <th>cost</th>\n",
       "      <th>revenue</th>\n",
       "    </tr>\n",
       "  </thead>\n",
       "  <tbody>\n",
       "  </tbody>\n",
       "</table>\n",
       "</div>"
      ],
      "text/plain": [
       "Empty DataFrame\n",
       "Columns: [date, age, sex, country, state, product_category, sub_category, product, order_quantity, unit_cost, unit_price, profit, cost, revenue]\n",
       "Index: []"
      ]
     },
     "execution_count": 150,
     "metadata": {},
     "output_type": "execute_result"
    }
   ],
   "source": [
    "loss.loc[loss[\"country\"] != \"France\"]"
   ]
  },
  {
   "cell_type": "code",
   "execution_count": 151,
   "metadata": {},
   "outputs": [
    {
     "data": {
      "text/html": [
       "<div>\n",
       "<style scoped>\n",
       "    .dataframe tbody tr th:only-of-type {\n",
       "        vertical-align: middle;\n",
       "    }\n",
       "\n",
       "    .dataframe tbody tr th {\n",
       "        vertical-align: top;\n",
       "    }\n",
       "\n",
       "    .dataframe thead th {\n",
       "        text-align: right;\n",
       "    }\n",
       "</style>\n",
       "<table border=\"1\" class=\"dataframe\">\n",
       "  <thead>\n",
       "    <tr style=\"text-align: right;\">\n",
       "      <th></th>\n",
       "      <th>date</th>\n",
       "      <th>age</th>\n",
       "      <th>sex</th>\n",
       "      <th>country</th>\n",
       "      <th>state</th>\n",
       "      <th>product_category</th>\n",
       "      <th>sub_category</th>\n",
       "      <th>product</th>\n",
       "      <th>order_quantity</th>\n",
       "      <th>unit_cost</th>\n",
       "      <th>unit_price</th>\n",
       "      <th>profit</th>\n",
       "      <th>cost</th>\n",
       "      <th>revenue</th>\n",
       "    </tr>\n",
       "  </thead>\n",
       "  <tbody>\n",
       "  </tbody>\n",
       "</table>\n",
       "</div>"
      ],
      "text/plain": [
       "Empty DataFrame\n",
       "Columns: [date, age, sex, country, state, product_category, sub_category, product, order_quantity, unit_cost, unit_price, profit, cost, revenue]\n",
       "Index: []"
      ]
     },
     "execution_count": 151,
     "metadata": {},
     "output_type": "execute_result"
    }
   ],
   "source": [
    "loss.loc[loss[\"state\"] != \"Yveline\"]"
   ]
  },
  {
   "cell_type": "code",
   "execution_count": 152,
   "metadata": {},
   "outputs": [
    {
     "data": {
      "text/html": [
       "<div>\n",
       "<style scoped>\n",
       "    .dataframe tbody tr th:only-of-type {\n",
       "        vertical-align: middle;\n",
       "    }\n",
       "\n",
       "    .dataframe tbody tr th {\n",
       "        vertical-align: top;\n",
       "    }\n",
       "\n",
       "    .dataframe thead th {\n",
       "        text-align: right;\n",
       "    }\n",
       "</style>\n",
       "<table border=\"1\" class=\"dataframe\">\n",
       "  <thead>\n",
       "    <tr style=\"text-align: right;\">\n",
       "      <th></th>\n",
       "      <th>date</th>\n",
       "      <th>age</th>\n",
       "      <th>sex</th>\n",
       "      <th>country</th>\n",
       "      <th>state</th>\n",
       "      <th>product_category</th>\n",
       "      <th>sub_category</th>\n",
       "      <th>product</th>\n",
       "      <th>order_quantity</th>\n",
       "      <th>unit_cost</th>\n",
       "      <th>unit_price</th>\n",
       "      <th>profit</th>\n",
       "      <th>cost</th>\n",
       "      <th>revenue</th>\n",
       "    </tr>\n",
       "  </thead>\n",
       "  <tbody>\n",
       "  </tbody>\n",
       "</table>\n",
       "</div>"
      ],
      "text/plain": [
       "Empty DataFrame\n",
       "Columns: [date, age, sex, country, state, product_category, sub_category, product, order_quantity, unit_cost, unit_price, profit, cost, revenue]\n",
       "Index: []"
      ]
     },
     "execution_count": 152,
     "metadata": {},
     "output_type": "execute_result"
    }
   ],
   "source": [
    "loss.loc[loss[\"product_category\"] != \"Clothing\"]"
   ]
  },
  {
   "cell_type": "code",
   "execution_count": 153,
   "metadata": {},
   "outputs": [
    {
     "data": {
      "text/plain": [
       "array(['Short-Sleeve Classic Jersey, S', 'AWC Logo Cap',\n",
       "       'Short-Sleeve Classic Jersey, L',\n",
       "       'Short-Sleeve Classic Jersey, XL',\n",
       "       'Short-Sleeve Classic Jersey, M'], dtype=object)"
      ]
     },
     "execution_count": 153,
     "metadata": {},
     "output_type": "execute_result"
    }
   ],
   "source": [
    "loss[\"product\"].unique()"
   ]
  },
  {
   "cell_type": "code",
   "execution_count": 154,
   "metadata": {},
   "outputs": [
    {
     "data": {
      "text/plain": [
       "-410"
      ]
     },
     "execution_count": 154,
     "metadata": {},
     "output_type": "execute_result"
    }
   ],
   "source": [
    "loss[\"profit\"].sum()"
   ]
  },
  {
   "cell_type": "markdown",
   "metadata": {},
   "source": [
    "### Clothing in Yveline, France has been causing loss\n",
    "Specifically:\n",
    "- Short-Sleeve Classic Jersey\n",
    "- AWC Logo Cap"
   ]
  },
  {
   "cell_type": "code",
   "execution_count": 155,
   "metadata": {},
   "outputs": [
    {
     "data": {
      "text/html": [
       "<div>\n",
       "<style scoped>\n",
       "    .dataframe tbody tr th:only-of-type {\n",
       "        vertical-align: middle;\n",
       "    }\n",
       "\n",
       "    .dataframe tbody tr th {\n",
       "        vertical-align: top;\n",
       "    }\n",
       "\n",
       "    .dataframe thead th {\n",
       "        text-align: right;\n",
       "    }\n",
       "</style>\n",
       "<table border=\"1\" class=\"dataframe\">\n",
       "  <thead>\n",
       "    <tr style=\"text-align: right;\">\n",
       "      <th></th>\n",
       "      <th>Short-Sleeve Calssic Jersey</th>\n",
       "    </tr>\n",
       "  </thead>\n",
       "  <tbody>\n",
       "    <tr>\n",
       "      <th>order_quantity</th>\n",
       "      <td>311</td>\n",
       "    </tr>\n",
       "    <tr>\n",
       "      <th>unit_cost</th>\n",
       "      <td>672</td>\n",
       "    </tr>\n",
       "    <tr>\n",
       "      <th>unit_price</th>\n",
       "      <td>864</td>\n",
       "    </tr>\n",
       "    <tr>\n",
       "      <th>profit</th>\n",
       "      <td>-297</td>\n",
       "    </tr>\n",
       "  </tbody>\n",
       "</table>\n",
       "</div>"
      ],
      "text/plain": [
       "                Short-Sleeve Calssic Jersey\n",
       "order_quantity                          311\n",
       "unit_cost                               672\n",
       "unit_price                              864\n",
       "profit                                 -297"
      ]
     },
     "execution_count": 155,
     "metadata": {},
     "output_type": "execute_result"
    }
   ],
   "source": [
    "pd.DataFrame(loss.loc[loss[\"product\"].str.startswith(\"Short-Sleeve\"),\n",
    "            [\"order_quantity\", \"unit_cost\", \"unit_price\", \"profit\"]].sum()).rename({0: \"Short-Sleeve Calssic Jersey\"}, axis=\"columns\")"
   ]
  },
  {
   "cell_type": "code",
   "execution_count": 156,
   "metadata": {},
   "outputs": [
    {
     "data": {
      "text/html": [
       "<div>\n",
       "<style scoped>\n",
       "    .dataframe tbody tr th:only-of-type {\n",
       "        vertical-align: middle;\n",
       "    }\n",
       "\n",
       "    .dataframe tbody tr th {\n",
       "        vertical-align: top;\n",
       "    }\n",
       "\n",
       "    .dataframe thead th {\n",
       "        text-align: right;\n",
       "    }\n",
       "</style>\n",
       "<table border=\"1\" class=\"dataframe\">\n",
       "  <thead>\n",
       "    <tr style=\"text-align: right;\">\n",
       "      <th></th>\n",
       "      <th>AWC Log Cap</th>\n",
       "    </tr>\n",
       "  </thead>\n",
       "  <tbody>\n",
       "    <tr>\n",
       "      <th>order_quantity</th>\n",
       "      <td>704</td>\n",
       "    </tr>\n",
       "    <tr>\n",
       "      <th>unit_cost</th>\n",
       "      <td>294</td>\n",
       "    </tr>\n",
       "    <tr>\n",
       "      <th>unit_price</th>\n",
       "      <td>378</td>\n",
       "    </tr>\n",
       "    <tr>\n",
       "      <th>profit</th>\n",
       "      <td>-113</td>\n",
       "    </tr>\n",
       "  </tbody>\n",
       "</table>\n",
       "</div>"
      ],
      "text/plain": [
       "                AWC Log Cap\n",
       "order_quantity          704\n",
       "unit_cost               294\n",
       "unit_price              378\n",
       "profit                 -113"
      ]
     },
     "execution_count": 156,
     "metadata": {},
     "output_type": "execute_result"
    }
   ],
   "source": [
    "pd.DataFrame(loss.loc[loss[\"product\"].str.startswith(\"AWC Logo\"),\n",
    "            [\"order_quantity\", \"unit_cost\", \"unit_price\", \"profit\"]].sum()).rename({0: \"AWC Log Cap\"}, axis=\"columns\")"
   ]
  },
  {
   "cell_type": "markdown",
   "metadata": {},
   "source": [
    "# Conclusions\n",
    "___\n",
    "- Every new years' eve there's a spike in sales\n",
    "- 65.45% of the customers are between the age of 25 to 45\n",
    "- 29.45% of the customers are either 15-25 or 45-55\n",
    "- Bike prices need adjusting to become more profitable\n",
    "- *Short-Sleeve Classic Jersey* & *AWC Logo Cap* in **Yveline**, **France** have been causing loss\n",
    "- Men in the **United States** & **Canada** buy more accessories\n",
    "- **Australia**, **Germany** & **France** sell more bikes"
   ]
  }
 ],
 "metadata": {
  "interpreter": {
   "hash": "d57f2ab204bc66fadcffd3dd142762b5c854e3205d72d6955b820a7421615b96"
  },
  "kernelspec": {
   "display_name": "Python 3.9.7 64-bit ('main': conda)",
   "language": "python",
   "name": "python3"
  },
  "language_info": {
   "codemirror_mode": {
    "name": "ipython",
    "version": 3
   },
   "file_extension": ".py",
   "mimetype": "text/x-python",
   "name": "python",
   "nbconvert_exporter": "python",
   "pygments_lexer": "ipython3",
   "version": "3.9.7"
  },
  "orig_nbformat": 4
 },
 "nbformat": 4,
 "nbformat_minor": 2
}
